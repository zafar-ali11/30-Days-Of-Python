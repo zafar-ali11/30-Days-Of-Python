{
 "cells": [
  {
   "cell_type": "code",
   "execution_count": 2,
   "metadata": {},
   "outputs": [
    {
     "name": "stdout",
     "output_type": "stream",
     "text": [
      "first_name 5\n",
      "last_name ali\n",
      "country unisted states\n",
      "city atd\n",
      "age 21\n",
      "skills ['python', 'css', 'data scientist']\n",
      "person_info {'firstname': 'zafar', 'lastname': 'ali', 'country': 'unisted states', 'city': 'atd', 'age': 21}\n"
     ]
    }
   ],
   "source": [
    "#variables in python\n",
    "\n",
    "first_name= \"zafar\"\n",
    "last_name= \"ali\"\n",
    "country=\"unisted states\"\n",
    "city=\"atd\"\n",
    "age= 21\n",
    "skills=[\"python\", \"css\", \"data scientist\"]\n",
    "person_info={\n",
    "    \n",
    "    \n",
    "    \"firstname\": first_name,\n",
    "    \"lastname\": last_name,\n",
    "    \"country\": country,\n",
    "    \"city\": city,\n",
    "    \"age\": age,\n",
    "}\n",
    "print(\"first_name\",len(first_name))\n",
    "print(\"last_name\", last_name)\n",
    "print(\"country\", country)\n",
    "print(\"city\", city)\n",
    "print(\"age\", age)\n",
    "print(\"skills\", skills)\n",
    "print(\"person_info\", person_info)\n"
   ]
  },
  {
   "cell_type": "markdown",
   "metadata": {},
   "source": [
    "#acccessing chracter in python\n",
    "x=\"python is my fashion\"\n",
    "print(x[2])\n",
    "print(x[3])"
   ]
  },
  {
   "cell_type": "code",
   "execution_count": 3,
   "metadata": {},
   "outputs": [
    {
     "name": "stdout",
     "output_type": "stream",
     "text": [
      "t\n",
      "h\n"
     ]
    }
   ],
   "source": [
    "#acccessing chracter in python\n",
    "x=\"python is my fashion\"\n",
    "print(x[2])\n",
    "print(x[3])"
   ]
  },
  {
   "cell_type": "markdown",
   "metadata": {},
   "source": [
    "slicing in string"
   ]
  },
  {
   "cell_type": "code",
   "execution_count": 4,
   "metadata": {},
   "outputs": [
    {
     "name": "stdout",
     "output_type": "stream",
     "text": [
      "t\n"
     ]
    }
   ],
   "source": [
    "x=\"python is my fashion\"\n",
    "print(x[2:3])"
   ]
  },
  {
   "cell_type": "code",
   "execution_count": 6,
   "metadata": {},
   "outputs": [
    {
     "name": "stdout",
     "output_type": "stream",
     "text": [
      "python is  my fashion\n"
     ]
    }
   ],
   "source": [
    "concatenation in string\n",
    "x = \"python is \"\n",
    "y = \"my fashion\"\n",
    "strings_to_join = [x, y]\n",
    "combined_string = \" \".join(strings_to_join)\n",
    "print(combined_string)\n"
   ]
  },
  {
   "cell_type": "code",
   "execution_count": 10,
   "metadata": {},
   "outputs": [
    {
     "name": "stdout",
     "output_type": "stream",
     "text": [
      "python is my fashion\n",
      "python is my fashion\n"
     ]
    }
   ],
   "source": [
    "#strip\n",
    "\n",
    "x = \"   python is my fashion   \"\n",
    "print(x.strip())\n",
    "print(x.strip())\n"
   ]
  },
  {
   "cell_type": "code",
   "execution_count": 15,
   "metadata": {},
   "outputs": [
    {
     "name": "stdout",
     "output_type": "stream",
     "text": [
      "java is my fashion\n"
     ]
    }
   ],
   "source": [
    "x = \"python is my fashion\"\n",
    "replace = x.replace(\"python\", \"java\")\n",
    "print(replace)  # Output: \"java is my fashion\"\n"
   ]
  },
  {
   "cell_type": "code",
   "execution_count": 16,
   "metadata": {},
   "outputs": [
    {
     "name": "stdout",
     "output_type": "stream",
     "text": [
      "java is my fashion\n"
     ]
    }
   ],
   "source": [
    "x= \"python is my fashion\"\n",
    "print(x.replace(\"python\", \"java\")) # Output: \"java is my fashion\n"
   ]
  },
  {
   "cell_type": "code",
   "execution_count": 17,
   "metadata": {},
   "outputs": [
    {
     "name": "stdout",
     "output_type": "stream",
     "text": [
      "['', '']\n"
     ]
    }
   ],
   "source": [
    "x= \"python is my fashion\"\n",
    "split_string= x.split(\"python is my fashion\")\n",
    "print(split_string) # Output: ['', ' my fashion']"
   ]
  },
  {
   "cell_type": "code",
   "execution_count": 20,
   "metadata": {},
   "outputs": [
    {
     "name": "stdout",
     "output_type": "stream",
     "text": [
      "my name is zafarali. my age is 21 and i am live in abottabad\n"
     ]
    }
   ],
   "source": [
    "#string formating\n",
    "\n",
    "name = \"zafarali\"\n",
    "age = 21\n",
    "city = \"abottabad\"\n",
    "print(\"my name is {name}. my age is {age} and i am live in {city}\".format(name=name, age=age, city=city))\n"
   ]
  },
  {
   "cell_type": "code",
   "execution_count": 25,
   "metadata": {},
   "outputs": [
    {
     "name": "stdout",
     "output_type": "stream",
     "text": [
      "f{number:2f}\n"
     ]
    }
   ],
   "source": [
    "#string formating\n",
    "number= 124575.4538\n",
    "formatted_string=\"f{number:2f}\"\n",
    "print(formatted_string)"
   ]
  },
  {
   "cell_type": "code",
   "execution_count": 24,
   "metadata": {},
   "outputs": [
    {
     "name": "stdout",
     "output_type": "stream",
     "text": [
      "1234.57\n",
      "1,234.57\n"
     ]
    }
   ],
   "source": [
    "number = 1234.56789\n",
    "formatted_string = f\"{number:.2f}\"  # Two decimal places\n",
    "print(formatted_string)  # Output: \"1234.57\"\n",
    "\n",
    "formatted_string = f\"{number:,.2f}\"  # Thousand separator and two decimal places\n",
    "print(formatted_string)  # Output: \"1,234.57\"\n"
   ]
  }
 ],
 "metadata": {
  "kernelspec": {
   "display_name": "Python 3",
   "language": "python",
   "name": "python3"
  },
  "language_info": {
   "codemirror_mode": {
    "name": "ipython",
    "version": 3
   },
   "file_extension": ".py",
   "mimetype": "text/x-python",
   "name": "python",
   "nbconvert_exporter": "python",
   "pygments_lexer": "ipython3",
   "version": "3.12.4"
  }
 },
 "nbformat": 4,
 "nbformat_minor": 2
}
