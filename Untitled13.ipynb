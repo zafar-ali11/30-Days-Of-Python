{
  "nbformat": 4,
  "nbformat_minor": 0,
  "metadata": {
    "colab": {
      "provenance": [],
      "toc_visible": true,
      "authorship_tag": "ABX9TyNgOqkE94McW/B+FwnRLCmR",
      "include_colab_link": true
    },
    "kernelspec": {
      "name": "python3",
      "display_name": "Python 3"
    },
    "language_info": {
      "name": "python"
    }
  },
  "cells": [
    {
      "cell_type": "markdown",
      "metadata": {
        "id": "view-in-github",
        "colab_type": "text"
      },
      "source": [
        "<a href=\"https://colab.research.google.com/github/zafar-ali11/30-Days-Of-Python/blob/master/Untitled13.ipynb\" target=\"_parent\"><img src=\"https://colab.research.google.com/assets/colab-badge.svg\" alt=\"Open In Colab\"/></a>"
      ]
    },
    {
      "cell_type": "code",
      "source": [
        "name = \"zafar Ali\"\n",
        "age = 22\n",
        "country = \"Pakistan\"\n",
        "profession = \"bioinformatians\"\n",
        "print(\"name:\", name, \"age:\", age, \"country:\", country, \"profession:\", profession)"
      ],
      "metadata": {
        "colab": {
          "base_uri": "https://localhost:8080/"
        },
        "id": "9V5WAtXFZa3H",
        "outputId": "96f24179-cd83-49e2-ea99-70549c75d169"
      },
      "execution_count": null,
      "outputs": [
        {
          "output_type": "stream",
          "name": "stdout",
          "text": [
            "name: zafar Ali age: 22 country: Pakistan profession: bioinformatians\n"
          ]
        }
      ]
    },
    {
      "cell_type": "markdown",
      "source": [
        "v**ariable program practice**"
      ],
      "metadata": {
        "id": "Tq4dzxCjdccC"
      }
    },
    {
      "cell_type": "code",
      "source": [
        "name = \"zafar Ali\"\n",
        "age = 22\n",
        "country = \"Pakistan\"\n",
        "profession = \"bioinformatians\"\n",
        "print(\"name:\", name, \"age:\", age, \"country:\", country, \"profession:\", profession)"
      ],
      "metadata": {
        "colab": {
          "base_uri": "https://localhost:8080/"
        },
        "id": "HHngeoW9dsh-",
        "outputId": "481ece24-be98-49ce-d51d-e136debd0a5a"
      },
      "execution_count": null,
      "outputs": [
        {
          "output_type": "stream",
          "name": "stdout",
          "text": [
            "name: zafar Ali age: 22 country: Pakistan profession: bioinformatians\n"
          ]
        }
      ]
    },
    {
      "cell_type": "markdown",
      "source": [
        "# **Data Type**"
      ],
      "metadata": {
        "id": "FViiHhdxhhqv"
      }
    },
    {
      "cell_type": "code",
      "source": [
        "first_name = \"zafar\"\n",
        "last_name = \"ali\"\n",
        "age = 22\n",
        "country = \"pakisatan\"\n",
        "city = \"abottabad\"\n",
        "# Printing out types\n",
        "print(type('zafar'))     # str\n",
        "print(type(first_name))     # str\n",
        "print(type(10))             # int\n",
        "print(type(3.14))           # float\n",
        "print(type(1 + 1j))         # complex\n",
        "print(type(True))           # bool\n",
        "print(type([1, 2, 3, 4]))     # list\n",
        "print(type({'name':'zafar ali','age':22, 'is_married':22}))    # dict\n",
        "print(type((1,2)))                                              # tuple\n",
        "print(type(zip([1,2],[3,4])))"
      ],
      "metadata": {
        "colab": {
          "base_uri": "https://localhost:8080/"
        },
        "id": "NJW3fcouhuXQ",
        "outputId": "4d19a9ac-0268-4aff-8269-d46f8b1840b0"
      },
      "execution_count": null,
      "outputs": [
        {
          "output_type": "stream",
          "name": "stdout",
          "text": [
            "<class 'str'>\n",
            "<class 'str'>\n",
            "<class 'int'>\n",
            "<class 'float'>\n",
            "<class 'complex'>\n",
            "<class 'bool'>\n",
            "<class 'list'>\n",
            "<class 'dict'>\n",
            "<class 'tuple'>\n",
            "<class 'zip'>\n"
          ]
        }
      ]
    },
    {
      "cell_type": "markdown",
      "source": [
        "\n",
        "# operators\n",
        "artematic operatoes\n"
      ],
      "metadata": {
        "id": "QgtyK8HKjcx1"
      }
    },
    {
      "cell_type": "markdown",
      "source": [],
      "metadata": {
        "id": "PfYiers4vUdK"
      }
    },
    {
      "cell_type": "code",
      "source": [
        "# Example: comparing gene expression values\n",
        "geneA_expr = 12.5\n",
        "geneB_expr = 8.3\n",
        "\n",
        "# Arithmetic operations\n",
        "total_expr = geneA_expr + geneB_expr      # total expression of both genes\n",
        "diff_expr = geneA_expr - geneB_expr       # difference in expression (fold change idea)\n",
        "product_expr = geneA_expr * geneB_expr    # combined effect (e.g., interaction score)\n",
        "ratio_expr = geneA_expr / geneB_expr      # ratio between expressions\n",
        "power_expr = geneA_expr ** 2              # square of expression (for normalization idea)\n",
        "mod_expr = int(geneA_expr) % int(geneB_expr)  # remainder (less common in biology)\n",
        "print(\"Total:\", total_expr)\n",
        "print(\"Difference:\", diff_expr)\n",
        "print(\"Product:\", product_expr)\n",
        "print(\"Ratio:\", ratio_expr)\n",
        "print(\"Squared GeneA:\", power_expr)\n",
        "print(\"Remainder:\", mod_expr)\n"
      ],
      "metadata": {
        "colab": {
          "base_uri": "https://localhost:8080/"
        },
        "id": "1US5acc3trww",
        "outputId": "693a5ca0-ea10-43a1-ae21-5d09c06cb75b"
      },
      "execution_count": 1,
      "outputs": [
        {
          "output_type": "stream",
          "name": "stdout",
          "text": [
            "Total: 20.8\n",
            "Difference: 4.199999999999999\n",
            "Product: 103.75000000000001\n",
            "Ratio: 1.506024096385542\n",
            "Squared GeneA: 156.25\n",
            "Remainder: 4\n"
          ]
        }
      ]
    },
    {
      "cell_type": "markdown",
      "source": [
        "Relational Operators"
      ],
      "metadata": {
        "id": "vHtN466dvZag"
      }
    },
    {
      "cell_type": "code",
      "source": [
        "geneA_expr = 2.33\n",
        "geneB_expr = 4.55\n",
        "print(geneA_expr > geneB_expr)\n",
        "print(geneA_expr < geneB_expr)\n",
        "print(geneA_expr >= geneB_expr)\n",
        "print(geneA_expr <= geneB_expr)"
      ],
      "metadata": {
        "colab": {
          "base_uri": "https://localhost:8080/"
        },
        "id": "knLtzwwOvmAu",
        "outputId": "576b7f7c-2b0e-45db-de72-17b4ea5f559e"
      },
      "execution_count": 3,
      "outputs": [
        {
          "output_type": "stream",
          "name": "stdout",
          "text": [
            "False\n",
            "True\n",
            "False\n",
            "True\n"
          ]
        }
      ]
    },
    {
      "cell_type": "markdown",
      "source": [
        "# Assignment Operator"
      ],
      "metadata": {
        "id": "n5mQfQGuyEd-"
      }
    },
    {
      "cell_type": "code",
      "source": [
        "mutation_count = 10\n",
        "mutation_count /= 2\n",
        "mutation_count **= 4\n",
        "mutation_count += 3\n",
        "mutation_count -= 1\n",
        "print(mutation_count)"
      ],
      "metadata": {
        "colab": {
          "base_uri": "https://localhost:8080/"
        },
        "id": "mfCWJNW4yLw6",
        "outputId": "177a915a-1755-46c5-91fe-d060e4bb5b78"
      },
      "execution_count": 4,
      "outputs": [
        {
          "output_type": "stream",
          "name": "stdout",
          "text": [
            "627.0\n"
          ]
        }
      ]
    }
  ]
}