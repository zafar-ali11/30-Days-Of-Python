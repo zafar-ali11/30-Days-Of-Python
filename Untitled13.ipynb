{
  "nbformat": 4,
  "nbformat_minor": 0,
  "metadata": {
    "colab": {
      "provenance": [],
      "authorship_tag": "ABX9TyNzo//7HNZCoURHEhWa6k1U",
      "include_colab_link": true
    },
    "kernelspec": {
      "name": "python3",
      "display_name": "Python 3"
    },
    "language_info": {
      "name": "python"
    }
  },
  "cells": [
    {
      "cell_type": "markdown",
      "metadata": {
        "id": "view-in-github",
        "colab_type": "text"
      },
      "source": [
        "<a href=\"https://colab.research.google.com/github/zafar-ali11/30-Days-Of-Python/blob/master/Untitled13.ipynb\" target=\"_parent\"><img src=\"https://colab.research.google.com/assets/colab-badge.svg\" alt=\"Open In Colab\"/></a>"
      ]
    },
    {
      "cell_type": "code",
      "source": [
        "name = \"zafar Ali\"\n",
        "age = 22\n",
        "country = \"Pakistan\"\n",
        "profession = \"bioinformatians\"\n",
        "print(\"name:\", name, \"age:\", age, \"country:\", country, \"profession:\", profession)"
      ],
      "metadata": {
        "colab": {
          "base_uri": "https://localhost:8080/"
        },
        "id": "9V5WAtXFZa3H",
        "outputId": "96f24179-cd83-49e2-ea99-70549c75d169"
      },
      "execution_count": 8,
      "outputs": [
        {
          "output_type": "stream",
          "name": "stdout",
          "text": [
            "name: zafar Ali age: 22 country: Pakistan profession: bioinformatians\n"
          ]
        }
      ]
    },
    {
      "cell_type": "markdown",
      "source": [
        "v**ariable program practice**"
      ],
      "metadata": {
        "id": "Tq4dzxCjdccC"
      }
    },
    {
      "cell_type": "code",
      "source": [
        "name = \"zafar Ali\"\n",
        "age = 22\n",
        "country = \"Pakistan\"\n",
        "profession = \"bioinformatians\"\n",
        "print(\"name:\", name, \"age:\", age, \"country:\", country, \"profession:\", profession)"
      ],
      "metadata": {
        "colab": {
          "base_uri": "https://localhost:8080/"
        },
        "id": "HHngeoW9dsh-",
        "outputId": "481ece24-be98-49ce-d51d-e136debd0a5a"
      },
      "execution_count": 10,
      "outputs": [
        {
          "output_type": "stream",
          "name": "stdout",
          "text": [
            "name: zafar Ali age: 22 country: Pakistan profession: bioinformatians\n"
          ]
        }
      ]
    },
    {
      "cell_type": "markdown",
      "source": [
        "# **Data Type**"
      ],
      "metadata": {
        "id": "FViiHhdxhhqv"
      }
    },
    {
      "cell_type": "code",
      "source": [
        "first_name = \"zafar\"\n",
        "last_name = \"ali\"\n",
        "age = 22\n",
        "country = \"pakisatan\"\n",
        "city = \"abottabad\"\n",
        "# Printing out types\n",
        "print(type('zafar'))     # str\n",
        "print(type(first_name))     # str\n",
        "print(type(10))             # int\n",
        "print(type(3.14))           # float\n",
        "print(type(1 + 1j))         # complex\n",
        "print(type(True))           # bool\n",
        "print(type([1, 2, 3, 4]))     # list\n",
        "print(type({'name':'zafar ali','age':22, 'is_married':22}))    # dict\n",
        "print(type((1,2)))                                              # tuple\n",
        "print(type(zip([1,2],[3,4])))"
      ],
      "metadata": {
        "colab": {
          "base_uri": "https://localhost:8080/"
        },
        "id": "NJW3fcouhuXQ",
        "outputId": "4d19a9ac-0268-4aff-8269-d46f8b1840b0"
      },
      "execution_count": 11,
      "outputs": [
        {
          "output_type": "stream",
          "name": "stdout",
          "text": [
            "<class 'str'>\n",
            "<class 'str'>\n",
            "<class 'int'>\n",
            "<class 'float'>\n",
            "<class 'complex'>\n",
            "<class 'bool'>\n",
            "<class 'list'>\n",
            "<class 'dict'>\n",
            "<class 'tuple'>\n",
            "<class 'zip'>\n"
          ]
        }
      ]
    },
    {
      "cell_type": "markdown",
      "source": [
        "# New Section"
      ],
      "metadata": {
        "id": "QgtyK8HKjcx1"
      }
    }
  ]
}